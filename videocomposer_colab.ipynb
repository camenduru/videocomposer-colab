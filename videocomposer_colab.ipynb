{
  "cells": [
    {
      "cell_type": "markdown",
      "metadata": {
        "id": "view-in-github"
      },
      "source": [
        "[![Open In Colab](https://colab.research.google.com/assets/colab-badge.svg)](https://colab.research.google.com/github/camenduru/videocomposer-colab/blob/main/videocomposer_colab.ipynb)"
      ]
    },
    {
      "cell_type": "code",
      "execution_count": null,
      "metadata": {
        "id": "KQDMlXe5W6MH"
      },
      "outputs": [],
      "source": [
        "# %cd /content\n",
        "# !git clone -b v1.0.7 https://github.com/HazyResearch/flash-attention\n",
        "# %cd /content/flash-attention\n",
        "# !python setup.py install\n",
        "# !python setup.py bdist_wheel\n",
        "\n",
        "%cd /content\n",
        "!pip install open-clip-torch motion-vector-extractor xformers==0.0.20 transformers simplejson pynvml fairscale oss2 sk-video ipdb rotary_embedding_torch pytorch_lightning\n",
        "!pip install https://huggingface.co/camenduru/VideoComposer/resolve/main/flash_attn-1.0.7-cp310-cp310-linux_x86_64.whl\n",
        "!pip install -U numpy\n",
        "\n",
        "%cd /content\n",
        "!git clone -b dev https://github.com/camenduru/videocomposer\n",
        "%cd /content/videocomposer\n",
        "\n",
        "!apt -y install -qq aria2\n",
        "!aria2c --console-log-level=error -c -x 16 -s 16 -k 1M https://huggingface.co/camenduru/VideoComposer/resolve/main/v2-1_512-ema-pruned.ckpt  -d /content/videocomposer/model_weights -o v2-1_512-ema-pruned.ckpt\n",
        "!aria2c --console-log-level=error -c -x 16 -s 16 -k 1M https://huggingface.co/camenduru/VideoComposer/resolve/main/table5_pidinet.pth  -d /content/videocomposer/model_weights -o table5_pidinet.pth\n",
        "!aria2c --console-log-level=error -c -x 16 -s 16 -k 1M https://huggingface.co/camenduru/VideoComposer/resolve/main/sketch_simplification_gan.pth  -d /content/videocomposer/model_weights -o sketch_simplification_gan.pth\n",
        "!aria2c --console-log-level=error -c -x 16 -s 16 -k 1M https://huggingface.co/camenduru/VideoComposer/resolve/main/open_clip_pytorch_model.bin  -d /content/videocomposer/model_weights -o open_clip_pytorch_model.bin\n",
        "!aria2c --console-log-level=error -c -x 16 -s 16 -k 1M https://huggingface.co/camenduru/VideoComposer/resolve/main/non_ema_228000.pth  -d /content/videocomposer/model_weights -o non_ema_228000.pth\n",
        "!aria2c --console-log-level=error -c -x 16 -s 16 -k 1M https://huggingface.co/camenduru/VideoComposer/resolve/main/midas_v3_dpt_large.pth  -d /content/videocomposer/model_weights -o midas_v3_dpt_large.pth\n",
        "!aria2c --console-log-level=error -c -x 16 -s 16 -k 1M https://huggingface.co/camenduru/VideoComposer/raw/main/configuration.json  -d /content/videocomposer/model_weights -o configuration.json"
      ]
    },
    {
      "cell_type": "code",
      "execution_count": null,
      "metadata": {
        "colab": {
          "base_uri": "https://localhost:8080/"
        },
        "id": "AblZh5rVZZKD",
        "outputId": "28d92614-b93f-455e-85a0-965a5bacb297"
      },
      "outputs": [],
      "source": [
        "!python run_net.py\\\n",
        "    --cfg configs/exp02_motion_transfer.yaml\\\n",
        "    --seed 9999\\\n",
        "    --input_video \"demo_video/motion_transfer.mp4\"\\\n",
        "    --image_path \"demo_video/moon_on_water.jpg\"\\\n",
        "    --input_text_desc \"A beautiful big moon on the water at night\""
      ]
    }
  ],
  "metadata": {
    "accelerator": "GPU",
    "colab": {
      "gpuType": "T4",
      "provenance": []
    },
    "kernelspec": {
      "display_name": "Python 3",
      "name": "python3"
    },
    "language_info": {
      "name": "python"
    }
  },
  "nbformat": 4,
  "nbformat_minor": 0
}
